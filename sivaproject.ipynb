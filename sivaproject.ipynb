{
  "nbformat": 4,
  "nbformat_minor": 0,
  "metadata": {
    "colab": {
      "name": "sivaproject.ipynb",
      "version": "0.3.2",
      "provenance": []
    },
    "kernelspec": {
      "display_name": "Python 3",
      "language": "python",
      "name": "python3"
    }
  },
  "cells": [
    {
      "metadata": {
        "id": "im-ubymjvmH2",
        "colab_type": "code",
        "colab": {
          "base_uri": "https://localhost:8080/",
          "height": 34
        },
        "outputId": "3992a25b-9483-4014-c1ef-394e461710ac"
      },
      "cell_type": "code",
      "source": [
        "from os import environ, chdir\n",
        "\n",
        "from keras.preprocessing.image import ImageDataGenerator\n",
        "\n",
        "from keras import models, layers, optimizers, callbacks\n",
        "\n",
        "import tensorflow as tf\n",
        "\n",
        "import h5py\n",
        "\n",
        "from keras.layers.convolutional import Conv2D, MaxPooling2D, ZeroPadding2D\n",
        "\n",
        "from keras.models import Sequential, Model\n",
        "\n",
        "from keras.layers.normalization import BatchNormalization\n",
        "\n",
        "environ['TF_CPP_MIN_LOG_LEVEL'] = '3'\n",
        "#chdir(r'Image-classification/train')"
      ],
      "execution_count": 1,
      "outputs": [
        {
          "output_type": "stream",
          "text": [
            "Using TensorFlow backend.\n"
          ],
          "name": "stderr"
        }
      ]
    },
    {
      "metadata": {
        "id": "_isS7cUEwu_8",
        "colab_type": "code",
        "colab": {
          "base_uri": "https://localhost:8080/",
          "height": 153
        },
        "outputId": "3bfd8ca9-aebd-4d1b-d07e-58f09ac0d5e3"
      },
      "cell_type": "code",
      "source": [
        "!git clone https://github.com/mskcsetce/Image-classification.git"
      ],
      "execution_count": 2,
      "outputs": [
        {
          "output_type": "stream",
          "text": [
            "Cloning into 'Image-classification'...\n",
            "remote: Enumerating objects: 8, done.\u001b[K\n",
            "remote: Counting objects: 100% (8/8), done.\u001b[K\n",
            "remote: Compressing objects: 100% (8/8), done.\u001b[K\n",
            "remote: Total 528 (delta 1), reused 0 (delta 0), pack-reused 520\u001b[K\n",
            "Receiving objects: 100% (528/528), 387.57 MiB | 35.61 MiB/s, done.\n",
            "Resolving deltas: 100% (38/38), done.\n",
            "Checking out files: 100% (424/424), done.\n"
          ],
          "name": "stdout"
        }
      ]
    },
    {
      "metadata": {
        "id": "2hmVOILDvmH5",
        "colab_type": "code",
        "colab": {
          "base_uri": "https://localhost:8080/",
          "height": 51
        },
        "outputId": "42f9486d-800c-4966-cfc0-7ac6cd4c4df8"
      },
      "cell_type": "code",
      "source": [
        "# Setting Image and Data Generators\n",
        "train_idg = ImageDataGenerator(rescale=1. / 255,\n",
        "                               zoom_range=[1.0, 1.25],\n",
        "                               width_shift_range=0.1,\n",
        "                               height_shift_range=0.1,\n",
        "                               fill_mode='reflect')\n",
        "\n",
        "train_g = train_idg.flow_from_directory(directory=\"Image-classification/train/\",\n",
        "                                        target_size=(100,100),\n",
        "                                        class_mode='binary',\n",
        "                                        batch_size=108,\n",
        "                                        shuffle=True)\n",
        "\n",
        "valid_idg = ImageDataGenerator(rescale=1. / 255)\n",
        "\n",
        "valid_g = valid_idg.flow_from_directory(directory='Image-classification/valid/',\n",
        "                                        target_size=(100,100),\n",
        "                                        class_mode='binary',\n",
        "                                        batch_size=50,\n",
        "                                        shuffle=True)"
      ],
      "execution_count": 3,
      "outputs": [
        {
          "output_type": "stream",
          "text": [
            "Found 200 images belonging to 2 classes.\n",
            "Found 200 images belonging to 2 classes.\n"
          ],
          "name": "stdout"
        }
      ]
    },
    {
      "metadata": {
        "id": "A7EOrK7JvmH9",
        "colab_type": "code",
        "colab": {
          "base_uri": "https://localhost:8080/",
          "height": 969
        },
        "outputId": "df30242b-20b7-49b3-cef6-fc277c2aae99"
      },
      "cell_type": "code",
      "source": [
        "# In[5]:\n",
        "\n",
        "# CNN Architecture\n",
        "my_model = models.Sequential()\n",
        "my_model.add(layers.Conv2D(filters=8, kernel_size=(3,3), strides=(1, 1),\n",
        "                           input_shape=(100, 100, 3)))\n",
        "my_model.add(layers.Activation('relu'))\n",
        "my_model.add(layers.Conv2D(filters=8, kernel_size=(3, 3), strides=(1, 1)))\n",
        "my_model.add(layers.Activation('relu'))\n",
        "my_model.add(layers.MaxPooling2D(pool_size=(2, 2)))\n",
        "\n",
        "my_model.add(layers.Dropout(rate=0.4))\n",
        "\n",
        "my_model.add(layers.Conv2D(filters=16, kernel_size=(3, 3), strides=(1, 1)))\n",
        "my_model.add(layers.Activation('relu'))\n",
        "my_model.add(layers.Conv2D(filters=16, kernel_size=(3, 3), strides=(1, 1)))\n",
        "my_model.add(layers.Activation('relu'))\n",
        "my_model.add(layers.MaxPooling2D(pool_size=(2, 2)))\n",
        "\n",
        "my_model.add(layers.Dropout(rate=0.4))\n",
        "\n",
        "my_model.add(layers.Conv2D(filters=16, kernel_size=(3, 3), strides=(1, 1)))\n",
        "my_model.add(layers.Activation('relu'))\n",
        "my_model.add(layers.MaxPooling2D(pool_size=(2, 2)))\n",
        "my_model.add(layers.Conv2D(filters=16, kernel_size=(3, 3), strides=(1, 1)))\n",
        "my_model.add(layers.Activation('relu'))\n",
        "my_model.add(layers.MaxPooling2D(pool_size=(2, 2)))\n",
        "\n",
        "my_model.add(layers.Flatten())\n",
        "\n",
        "my_model.add(layers.Dropout(rate=0.4))\n",
        "\n",
        "my_model.add(layers.Dense(units=100))\n",
        "my_model.add(layers.Activation('relu'))\n",
        "\n",
        "my_model.add(layers.Dense(units=1))\n",
        "my_model.add(layers.Activation('sigmoid'))\n",
        "print(my_model.summary())"
      ],
      "execution_count": 4,
      "outputs": [
        {
          "output_type": "stream",
          "text": [
            "_________________________________________________________________\n",
            "Layer (type)                 Output Shape              Param #   \n",
            "=================================================================\n",
            "conv2d_1 (Conv2D)            (None, 98, 98, 8)         224       \n",
            "_________________________________________________________________\n",
            "activation_1 (Activation)    (None, 98, 98, 8)         0         \n",
            "_________________________________________________________________\n",
            "conv2d_2 (Conv2D)            (None, 96, 96, 8)         584       \n",
            "_________________________________________________________________\n",
            "activation_2 (Activation)    (None, 96, 96, 8)         0         \n",
            "_________________________________________________________________\n",
            "max_pooling2d_1 (MaxPooling2 (None, 48, 48, 8)         0         \n",
            "_________________________________________________________________\n",
            "dropout_1 (Dropout)          (None, 48, 48, 8)         0         \n",
            "_________________________________________________________________\n",
            "conv2d_3 (Conv2D)            (None, 46, 46, 16)        1168      \n",
            "_________________________________________________________________\n",
            "activation_3 (Activation)    (None, 46, 46, 16)        0         \n",
            "_________________________________________________________________\n",
            "conv2d_4 (Conv2D)            (None, 44, 44, 16)        2320      \n",
            "_________________________________________________________________\n",
            "activation_4 (Activation)    (None, 44, 44, 16)        0         \n",
            "_________________________________________________________________\n",
            "max_pooling2d_2 (MaxPooling2 (None, 22, 22, 16)        0         \n",
            "_________________________________________________________________\n",
            "dropout_2 (Dropout)          (None, 22, 22, 16)        0         \n",
            "_________________________________________________________________\n",
            "conv2d_5 (Conv2D)            (None, 20, 20, 16)        2320      \n",
            "_________________________________________________________________\n",
            "activation_5 (Activation)    (None, 20, 20, 16)        0         \n",
            "_________________________________________________________________\n",
            "max_pooling2d_3 (MaxPooling2 (None, 10, 10, 16)        0         \n",
            "_________________________________________________________________\n",
            "conv2d_6 (Conv2D)            (None, 8, 8, 16)          2320      \n",
            "_________________________________________________________________\n",
            "activation_6 (Activation)    (None, 8, 8, 16)          0         \n",
            "_________________________________________________________________\n",
            "max_pooling2d_4 (MaxPooling2 (None, 4, 4, 16)          0         \n",
            "_________________________________________________________________\n",
            "flatten_1 (Flatten)          (None, 256)               0         \n",
            "_________________________________________________________________\n",
            "dropout_3 (Dropout)          (None, 256)               0         \n",
            "_________________________________________________________________\n",
            "dense_1 (Dense)              (None, 100)               25700     \n",
            "_________________________________________________________________\n",
            "activation_7 (Activation)    (None, 100)               0         \n",
            "_________________________________________________________________\n",
            "dense_2 (Dense)              (None, 1)                 101       \n",
            "_________________________________________________________________\n",
            "activation_8 (Activation)    (None, 1)                 0         \n",
            "=================================================================\n",
            "Total params: 34,737\n",
            "Trainable params: 34,737\n",
            "Non-trainable params: 0\n",
            "_________________________________________________________________\n",
            "None\n"
          ],
          "name": "stdout"
        }
      ]
    },
    {
      "metadata": {
        "id": "f_1i8sNjvmIC",
        "colab_type": "code",
        "colab": {}
      },
      "cell_type": "code",
      "source": [
        "# Model Loss function and Optimizer method\n",
        "compile = my_model.compile(optimizer=optimizers.Adadelta(lr=0.15), loss='binary_crossentropy',\n",
        "                           metrics=['accuracy'])\n"
      ],
      "execution_count": 0,
      "outputs": []
    },
    {
      "metadata": {
        "id": "UKizvVsjvmIE",
        "colab_type": "code",
        "colab": {}
      },
      "cell_type": "code",
      "source": [
        "# Settting Callbacks\n",
        "#chdir(r'D:\\hackathon')\n",
        "check_p = callbacks.ModelCheckpoint(filepath='hydrangea_cnn_{val_acc:.2f}.h5',\n",
        "                                    monitor='val_acc', verbose=1,\n",
        "                                    save_best_only=True, save_weights_only=False)\n",
        "reduce_lr = callbacks.ReduceLROnPlateau(monitor='val_acc', factor=0.95, patience=3,\n",
        "                                        verbose=1, cooldown=2)\n",
        "callb_l = [check_p, reduce_lr]"
      ],
      "execution_count": 0,
      "outputs": []
    },
    {
      "metadata": {
        "id": "oUwrH9IgvmIG",
        "colab_type": "code",
        "colab": {
          "base_uri": "https://localhost:8080/",
          "height": 153
        },
        "outputId": "c32475ff-eff2-4a0b-976d-0551a9a1f46c"
      },
      "cell_type": "code",
      "source": [
        "# Training Options\n",
        "fit = my_model.fit_generator(generator=train_g, steps_per_epoch=2, epochs=2, verbose=1,\n",
        "                             callbacks=callb_l, validation_data=valid_g, validation_steps=4)"
      ],
      "execution_count": 7,
      "outputs": [
        {
          "output_type": "stream",
          "text": [
            "Epoch 1/2\n",
            "2/2 [==============================] - 15s 7s/step - loss: 0.6935 - acc: 0.4873 - val_loss: 0.6919 - val_acc: 0.5000\n",
            "\n",
            "Epoch 00001: val_acc improved from -inf to 0.50000, saving model to hydrangea_cnn_0.50.h5\n",
            "Epoch 2/2\n",
            "2/2 [==============================] - 13s 6s/step - loss: 0.6939 - acc: 0.5021 - val_loss: 0.6919 - val_acc: 0.5000\n",
            "\n",
            "Epoch 00002: val_acc did not improve from 0.50000\n"
          ],
          "name": "stdout"
        }
      ]
    },
    {
      "metadata": {
        "id": "BIXvMfZAvmIK",
        "colab_type": "code",
        "colab": {}
      },
      "cell_type": "code",
      "source": [
        "# Saving Model\n",
        "my_model.save(filepath='Image-classification/models/hydrangea_cnn.h5', overwrite=True)\n"
      ],
      "execution_count": 0,
      "outputs": []
    },
    {
      "metadata": {
        "id": "aJQVuIxevmIN",
        "colab_type": "code",
        "colab": {
          "base_uri": "https://localhost:8080/",
          "height": 231
        },
        "outputId": "05566674-9cf6-4a61-ee99-23646ce61590"
      },
      "cell_type": "code",
      "source": [
        "\n",
        "acc = history.history['acc']\n",
        "val_acc = history.history['val_acc']\n",
        "loss = history.history['loss']\n",
        "val_loss = history.history['val_loss']\n",
        "\n",
        "epochs= range(len(acc))\n",
        "\n",
        "plt.plot(epochs, acc, 'b', label='training acc')\n",
        "plt.plot(epochs, val_acc, 'r', label='validation loss')\n",
        "plt.title('training and validation accuracy')\n",
        "plt.legend()\n",
        "\n",
        "plt.figure()\n",
        "\n",
        "plt.plot(epochs, loss, 'b', label='training loss')\n",
        "plt.plot(epochs, val_loss, 'r', label='training loss')\n",
        "plt.title('training and validation loss')\n",
        "plt.legend()\n",
        "\n",
        "plt.show()\n",
        "\n"
      ],
      "execution_count": 15,
      "outputs": [
        {
          "output_type": "error",
          "ename": "NameError",
          "evalue": "ignored",
          "traceback": [
            "\u001b[0;31m---------------------------------------------------------------------------\u001b[0m",
            "\u001b[0;31mNameError\u001b[0m                                 Traceback (most recent call last)",
            "\u001b[0;32m<ipython-input-15-104f531b5ede>\u001b[0m in \u001b[0;36m<module>\u001b[0;34m()\u001b[0m\n\u001b[1;32m      1\u001b[0m \u001b[0;34m\u001b[0m\u001b[0m\n\u001b[0;32m----> 2\u001b[0;31m \u001b[0macc\u001b[0m \u001b[0;34m=\u001b[0m \u001b[0mhistory\u001b[0m\u001b[0;34m.\u001b[0m\u001b[0mhistory\u001b[0m\u001b[0;34m[\u001b[0m\u001b[0;34m'acc'\u001b[0m\u001b[0;34m]\u001b[0m\u001b[0;34m\u001b[0m\u001b[0;34m\u001b[0m\u001b[0m\n\u001b[0m\u001b[1;32m      3\u001b[0m \u001b[0mval_acc\u001b[0m \u001b[0;34m=\u001b[0m \u001b[0mhistory\u001b[0m\u001b[0;34m.\u001b[0m\u001b[0mhistory\u001b[0m\u001b[0;34m[\u001b[0m\u001b[0;34m'val_acc'\u001b[0m\u001b[0;34m]\u001b[0m\u001b[0;34m\u001b[0m\u001b[0;34m\u001b[0m\u001b[0m\n\u001b[1;32m      4\u001b[0m \u001b[0mloss\u001b[0m \u001b[0;34m=\u001b[0m \u001b[0mhistory\u001b[0m\u001b[0;34m.\u001b[0m\u001b[0mhistory\u001b[0m\u001b[0;34m[\u001b[0m\u001b[0;34m'loss'\u001b[0m\u001b[0;34m]\u001b[0m\u001b[0;34m\u001b[0m\u001b[0;34m\u001b[0m\u001b[0m\n\u001b[1;32m      5\u001b[0m \u001b[0mval_loss\u001b[0m \u001b[0;34m=\u001b[0m \u001b[0mhistory\u001b[0m\u001b[0;34m.\u001b[0m\u001b[0mhistory\u001b[0m\u001b[0;34m[\u001b[0m\u001b[0;34m'val_loss'\u001b[0m\u001b[0;34m]\u001b[0m\u001b[0;34m\u001b[0m\u001b[0;34m\u001b[0m\u001b[0m\n",
            "\u001b[0;31mNameError\u001b[0m: name 'history' is not defined"
          ]
        }
      ]
    }
  ]
}