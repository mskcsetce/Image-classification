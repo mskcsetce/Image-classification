{
  "nbformat": 4,
  "nbformat_minor": 0,
  "metadata": {
    "colab": {
      "name": "sivatest.ipynb",
      "version": "0.3.2",
      "provenance": [],
      "collapsed_sections": []
    },
    "kernelspec": {
      "name": "python3",
      "display_name": "Python 3"
    }
  },
  "cells": [
    {
      "metadata": {
        "id": "9L6yi8e2u4Pq",
        "colab_type": "code",
        "colab": {}
      },
      "cell_type": "code",
      "source": [
        "\n",
        "# coding: utf-8\n",
        "\n",
        "# In[53]:\n",
        "\n",
        "import os\n",
        "from keras.models import load_model\n",
        "from keras.preprocessing.image import ImageDataGenerator\n",
        "from numpy import set_printoptions"
      ],
      "execution_count": 0,
      "outputs": []
    },
    {
      "metadata": {
        "id": "cpaYkfEXu5wF",
        "colab_type": "code",
        "colab": {}
      },
      "cell_type": "code",
      "source": [
        "# Initial Settings\n",
        "os.environ['TF_CPP_MIN_LOG_LEVEL'] = '3'\n",
        "os.chdir(r'/home/administrator/Downloads')\n",
        "set_printoptions(precision=4, suppress=True)\n"
      ],
      "execution_count": 0,
      "outputs": []
    },
    {
      "metadata": {
        "id": "lqrs_eg2u8A9",
        "colab_type": "code",
        "colab": {}
      },
      "cell_type": "code",
      "source": [
        "# Loading Model\n",
        "my_model = load_model(filepath='hydrangea_cnn_0.90.h5')\n",
        "print(my_model.summary(), '\\n')"
      ],
      "execution_count": 0,
      "outputs": []
    },
    {
      "metadata": {
        "id": "RnUf8TBtu_tU",
        "colab_type": "code",
        "colab": {}
      },
      "cell_type": "code",
      "source": [
        "# Parameters: Weights and Biases\n",
        "print('Hydrangea CNN last layer bias:')\n",
        "print(my_model.get_weights()[-1])\n",
        "print('Hydrangea CNN last layer weights:')\n",
        "print(my_model.get_weights()[-2])\n"
      ],
      "execution_count": 0,
      "outputs": []
    },
    {
      "metadata": {
        "id": "bTos_mvRvB-9",
        "colab_type": "code",
        "colab": {}
      },
      "cell_type": "code",
      "source": [
        "# Evaluation test\n",
        "eval_idg = ImageDataGenerator(rescale=1. / 255)\n",
        "eval_g = eval_idg.flow_from_directory(directory=r'test1',\n",
        "                                      target_size=(100, 100),\n",
        "                                        class_mode='binary',\n",
        "                                        batch_size=20,\n",
        "                                        shuffle=False)\n",
        "\n",
        "(eval_loss, eval_acc)= my_model.evaluate_generator(generator=eval_g, steps=1)\n",
        "print('evaluation Loss over never-before-seen images is: {:.4f}'.format(eval_loss))\n",
        "print('evaluation Accuracy over never-before-seen images is: {:4.2f}%'.format(eval_acc*100), '\\n')\n"
      ],
      "execution_count": 0,
      "outputs": []
    },
    {
      "metadata": {
        "id": "E6Kdsaq3vCFM",
        "colab_type": "code",
        "colab": {}
      },
      "cell_type": "code",
      "source": [
        "#Individual Predictions\n",
        "pred_idg=eval_idg\n",
        "pred_g=eval_g\n",
        "pred=my_model.predict_generator(generator=pred_g,steps=1)\n",
        "print(pred_g.filenames, '\\n')\n",
        "print(pred_g.class_indices, '\\n')\n",
        "print(pred[0:10], '\\n')\n",
        "print(pred[10:20], '\\n')\n",
        "print(pred[0:10]<0.5, '\\n')\n",
        "print(pred[10:20]>0.5, '\\n')\n"
      ],
      "execution_count": 0,
      "outputs": []
    }
  ]
}